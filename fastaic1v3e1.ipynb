{
  "nbformat": 4,
  "nbformat_minor": 0,
  "metadata": {
    "colab": {
      "name": "Untitled1.ipynb",
      "version": "0.3.2",
      "provenance": [],
      "include_colab_link": true
    },
    "kernelspec": {
      "name": "python3",
      "display_name": "Python 3"
    }
  },
  "cells": [
    {
      "cell_type": "markdown",
      "metadata": {
        "id": "view-in-github",
        "colab_type": "text"
      },
      "source": [
        "[View in Colaboratory](https://colab.research.google.com/github/KristianHiggins/fastaic1v3/blob/master/fastaic1v3e1.ipynb)"
      ]
    },
    {
      "metadata": {
        "id": "GdJNLWpAFOe8",
        "colab_type": "text"
      },
      "cell_type": "markdown",
      "source": [
        "<h1>FastAI</h1>\n",
        "<h2>Course 1. Version 3.</h2>\n",
        "<a href=\"https://www.youtube.com/watch?v=7hX8yKCX6xM\">Episode 1</a>\n"
      ]
    },
    {
      "metadata": {
        "id": "Foqm25pUFNob",
        "colab_type": "code",
        "colab": {}
      },
      "cell_type": "code",
      "source": [
        ""
      ],
      "execution_count": 0,
      "outputs": []
    }
  ]
}